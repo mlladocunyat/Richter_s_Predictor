{
 "cells": [
  {
   "cell_type": "code",
   "execution_count": 1,
   "metadata": {},
   "outputs": [
    {
     "name": "stderr",
     "output_type": "stream",
     "text": [
      "Using TensorFlow backend.\n"
     ]
    }
   ],
   "source": [
    "# This Python 3 environment comes with many helpful analytics libraries installed\n",
    "# It is defined by the kaggle/python docker image: https://github.com/kaggle/docker-python\n",
    "# For example, here's several helpful packages to load in \n",
    "\n",
    "import numpy as np # linear algebra\n",
    "import pandas as pd # data processing, CSV file I/O (e.g. pd.read_csv)\n",
    "\n",
    "import pandas as pd \n",
    "import seaborn as sns\n",
    "import matplotlib.pyplot as plt\n",
    "from sklearn.preprocessing import StandardScaler\n",
    "\n",
    "import numpy as np \n",
    "import pandas as pd \n",
    "import pandas as pd \n",
    "import numpy as np \n",
    "import scipy as sp \n",
    "import sklearn\n",
    "import random \n",
    "import time \n",
    "\n",
    "from sklearn import preprocessing, model_selection\n",
    "\n",
    "\n",
    "from keras.models import Sequential \n",
    "from keras.layers import Dense \n",
    "from keras.utils import np_utils\n",
    "from sklearn.preprocessing import LabelEncoder\n",
    "from keras.utils.np_utils import to_categorical\n",
    "from sklearn.utils import shuffle"
   ]
  },
  {
   "cell_type": "code",
   "execution_count": 9,
   "metadata": {},
   "outputs": [],
   "source": [
    "data = pd.read_csv('./input/Iris.csv')\n",
    "data = data.drop(['Id'], axis =1)"
   ]
  },
  {
   "cell_type": "code",
   "execution_count": 10,
   "metadata": {},
   "outputs": [],
   "source": [
    "data = shuffle(data)\n",
    "\n",
    "\n",
    "i = 8\n",
    "data_to_predict = data[:i].reset_index(drop = True)\n",
    "predict_species = data_to_predict.Species \n",
    "predict_species = np.array(predict_species)\n",
    "prediction = np.array(data_to_predict.drop(['Species'],axis= 1))\n",
    "\n",
    "data = data[i:].reset_index(drop = True)"
   ]
  },
  {
   "cell_type": "code",
   "execution_count": 16,
   "metadata": {},
   "outputs": [],
   "source": [
    "X = data.drop(['Species'], axis = 1)\n",
    "X = np.array(X)\n",
    "Y = data['Species']"
   ]
  },
  {
   "cell_type": "code",
   "execution_count": 17,
   "metadata": {},
   "outputs": [],
   "source": [
    "# Transform name species into numerical values \n",
    "encoder = LabelEncoder()\n",
    "encoder.fit(Y)\n",
    "Y = encoder.transform(Y)\n",
    "Y = np_utils.to_categorical(Y)\n",
    "#print(Y)\n",
    "\n",
    "# We have 3 classes : the output looks like : \n",
    "#0,0,1 : Class 1\n",
    "#0,1,0 : Class 2\n",
    "#1,0,0 : Class 3"
   ]
  },
  {
   "cell_type": "code",
   "execution_count": 18,
   "metadata": {},
   "outputs": [],
   "source": [
    "train_x, test_x, train_y, test_y = model_selection.train_test_split(X,Y,test_size = 0.1, random_state = 0)"
   ]
  },
  {
   "cell_type": "code",
   "execution_count": 28,
   "metadata": {},
   "outputs": [
    {
     "data": {
      "text/plain": [
       "array(['Iris-versicolor', 'Iris-setosa', 'Iris-virginica', 'Iris-setosa',\n",
       "       'Iris-versicolor', 'Iris-versicolor', 'Iris-versicolor',\n",
       "       'Iris-setosa'], dtype=object)"
      ]
     },
     "execution_count": 28,
     "metadata": {},
     "output_type": "execute_result"
    }
   ],
   "source": [
    "predict_species"
   ]
  },
  {
   "cell_type": "code",
   "execution_count": 19,
   "metadata": {},
   "outputs": [
    {
     "name": "stdout",
     "output_type": "stream",
     "text": [
      "WARNING:tensorflow:From c:\\program files\\python37\\lib\\site-packages\\tensorflow\\python\\framework\\op_def_library.py:263: colocate_with (from tensorflow.python.framework.ops) is deprecated and will be removed in a future version.\n",
      "Instructions for updating:\n",
      "Colocations handled automatically by placer.\n",
      "WARNING:tensorflow:From c:\\program files\\python37\\lib\\site-packages\\tensorflow\\python\\ops\\math_ops.py:3066: to_int32 (from tensorflow.python.ops.math_ops) is deprecated and will be removed in a future version.\n",
      "Instructions for updating:\n",
      "Use tf.cast instead.\n",
      "Epoch 1/10\n",
      "127/127 [==============================] - 6s 47ms/step - loss: 1.6018 - acc: 0.3071\n",
      "Epoch 2/10\n",
      "127/127 [==============================] - 0s 1ms/step - loss: 1.0888 - acc: 0.3858\n",
      "Epoch 3/10\n",
      "127/127 [==============================] - 0s 1ms/step - loss: 1.0732 - acc: 0.3465\n",
      "Epoch 4/10\n",
      "127/127 [==============================] - 0s 1ms/step - loss: 1.0294 - acc: 0.4961\n",
      "Epoch 5/10\n",
      "127/127 [==============================] - 0s 1ms/step - loss: 0.9092 - acc: 0.6929\n",
      "Epoch 6/10\n",
      "127/127 [==============================] - 0s 1ms/step - loss: 0.7774 - acc: 0.6378\n",
      "Epoch 7/10\n",
      "127/127 [==============================] - 0s 951us/step - loss: 0.6578 - acc: 0.7244\n",
      "Epoch 8/10\n",
      "127/127 [==============================] - 0s 1ms/step - loss: 0.5871 - acc: 0.6614\n",
      "Epoch 9/10\n",
      "127/127 [==============================] - 0s 1ms/step - loss: 0.5227 - acc: 0.6535\n",
      "Epoch 10/10\n",
      "127/127 [==============================] - 0s 1ms/step - loss: 0.4819 - acc: 0.9134\n",
      "15/15 [==============================] - 0s 7ms/step\n",
      "\n",
      "acc: 93.33%\n"
     ]
    }
   ],
   "source": [
    "input_dim = len(data.columns) - 1\n",
    "\n",
    "model = Sequential()\n",
    "model.add(Dense(8, input_dim = input_dim , activation = 'relu'))\n",
    "model.add(Dense(10, activation = 'relu'))\n",
    "model.add(Dense(10, activation = 'relu'))\n",
    "model.add(Dense(10, activation = 'relu'))\n",
    "model.add(Dense(3, activation = 'softmax'))\n",
    "\n",
    "model.compile(loss = 'categorical_crossentropy' , optimizer = 'adam' , metrics = ['accuracy'] )\n",
    "\n",
    "model.fit(train_x, train_y, epochs = 10, batch_size = 2)\n",
    "\n",
    "scores = model.evaluate(test_x, test_y)\n",
    "print(\"\\n%s: %.2f%%\" % (model.metrics_names[1], scores[1]*100))"
   ]
  },
  {
   "cell_type": "code",
   "execution_count": 20,
   "metadata": {},
   "outputs": [
    {
     "name": "stdout",
     "output_type": "stream",
     "text": [
      " the nn predict Iris-virginica, and the species to find is Iris-versicolor\n",
      " the nn predict Iris-setosa, and the species to find is Iris-setosa\n",
      " the nn predict Iris-virginica, and the species to find is Iris-virginica\n",
      " the nn predict Iris-setosa, and the species to find is Iris-setosa\n",
      " the nn predict Iris-versicolor, and the species to find is Iris-versicolor\n",
      " the nn predict Iris-virginica, and the species to find is Iris-versicolor\n",
      " the nn predict Iris-virginica, and the species to find is Iris-versicolor\n",
      " the nn predict Iris-setosa, and the species to find is Iris-setosa\n"
     ]
    }
   ],
   "source": [
    "predictions = model.predict_classes(prediction)\n",
    "prediction_ = np.argmax(to_categorical(predictions), axis = 1)\n",
    "prediction_ = encoder.inverse_transform(prediction_)\n",
    "\n",
    "for i, j in zip(prediction_ , predict_species):\n",
    "    print( \" the nn predict {}, and the species to find is {}\".format(i,j))"
   ]
  }
 ],
 "metadata": {
  "kernelspec": {
   "display_name": "Python 3",
   "language": "python",
   "name": "python3"
  },
  "language_info": {
   "codemirror_mode": {
    "name": "ipython",
    "version": 3
   },
   "file_extension": ".py",
   "mimetype": "text/x-python",
   "name": "python",
   "nbconvert_exporter": "python",
   "pygments_lexer": "ipython3",
   "version": "3.7.1"
  }
 },
 "nbformat": 4,
 "nbformat_minor": 2
}
